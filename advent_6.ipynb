{
 "cells": [
  {
   "cell_type": "code",
   "execution_count": 19,
   "id": "cf8151eb",
   "metadata": {},
   "outputs": [
    {
     "name": "stdout",
     "output_type": "stream",
     "text": [
      "race time: 83, press time: 13, 1079\n",
      "race time: 82, press time: 14, 1148\n",
      "race time: 81, press time: 15, 1215\n",
      "race time: 80, press time: 16, 1280\n",
      "race time: 79, press time: 17, 1343\n",
      "race time: 78, press time: 18, 1404\n",
      "race time: 77, press time: 19, 1463\n",
      "race time: 76, press time: 20, 1520\n",
      "race time: 75, press time: 21, 1575\n",
      "race time: 74, press time: 22, 1628\n",
      "race time: 73, press time: 23, 1679\n",
      "race time: 72, press time: 24, 1728\n",
      "race time: 71, press time: 25, 1775\n",
      "race time: 70, press time: 26, 1820\n",
      "race time: 69, press time: 27, 1863\n",
      "race time: 68, press time: 28, 1904\n",
      "race time: 67, press time: 29, 1943\n",
      "race time: 66, press time: 30, 1980\n",
      "race time: 65, press time: 31, 2015\n",
      "race time: 64, press time: 32, 2048\n",
      "race time: 63, press time: 33, 2079\n",
      "race time: 62, press time: 34, 2108\n",
      "race time: 61, press time: 35, 2135\n",
      "race time: 60, press time: 36, 2160\n",
      "race time: 59, press time: 37, 2183\n",
      "race time: 58, press time: 38, 2204\n",
      "race time: 57, press time: 39, 2223\n",
      "race time: 56, press time: 40, 2240\n",
      "race time: 55, press time: 41, 2255\n",
      "race time: 54, press time: 42, 2268\n",
      "race time: 53, press time: 43, 2279\n",
      "race time: 52, press time: 44, 2288\n",
      "race time: 51, press time: 45, 2295\n",
      "race time: 50, press time: 46, 2300\n",
      "race time: 49, press time: 47, 2303\n",
      "race time: 48, press time: 48, 2304\n",
      "race time: 47, press time: 49, 2303\n",
      "race time: 46, press time: 50, 2300\n",
      "race time: 45, press time: 51, 2295\n",
      "race time: 44, press time: 52, 2288\n",
      "race time: 43, press time: 53, 2279\n",
      "race time: 42, press time: 54, 2268\n",
      "race time: 41, press time: 55, 2255\n",
      "race time: 40, press time: 56, 2240\n",
      "race time: 39, press time: 57, 2223\n",
      "race time: 38, press time: 58, 2204\n",
      "race time: 37, press time: 59, 2183\n",
      "race time: 36, press time: 60, 2160\n",
      "race time: 35, press time: 61, 2135\n",
      "race time: 34, press time: 62, 2108\n",
      "race time: 33, press time: 63, 2079\n",
      "race time: 32, press time: 64, 2048\n",
      "race time: 31, press time: 65, 2015\n",
      "race time: 30, press time: 66, 1980\n",
      "race time: 29, press time: 67, 1943\n",
      "race time: 28, press time: 68, 1904\n",
      "race time: 27, press time: 69, 1863\n",
      "race time: 26, press time: 70, 1820\n",
      "race time: 25, press time: 71, 1775\n",
      "race time: 24, press time: 72, 1728\n",
      "race time: 23, press time: 73, 1679\n",
      "race time: 22, press time: 74, 1628\n",
      "race time: 21, press time: 75, 1575\n",
      "race time: 20, press time: 76, 1520\n",
      "race time: 19, press time: 77, 1463\n",
      "race time: 18, press time: 78, 1404\n",
      "race time: 17, press time: 79, 1343\n",
      "race time: 16, press time: 80, 1280\n",
      "race time: 15, press time: 81, 1215\n",
      "race time: 14, press time: 82, 1148\n",
      "race time: 13, press time: 83, 1079\n",
      "71\n"
     ]
    }
   ],
   "source": [
    "# need to for name time and distance numbers\n",
    "#Test Cases:\n",
    "#Time:      7  15   30\n",
    "#Distance:  9  40  200\n",
    "\n",
    "#Trial Cases\n",
    "#Time:        41     77     70     96\n",
    "#Distance:   249   1362   1127   1011\n",
    "\n",
    "race_1 = (4177)\n",
    "race_2 = (15,40)\n",
    "race_3 = (30, 200)\n",
    "\n",
    "win_count = 0\n",
    "for press in range(1,race_1[0]+1):\n",
    "    race_time = race_1[0] - press\n",
    "    if race_time * press >= race_1[1]:\n",
    "        win_count += 1\n",
    "print(win_count)\n",
    "        \n",
    "\n"
   ]
  },
  {
   "cell_type": "code",
   "execution_count": 20,
   "id": "715535a2",
   "metadata": {},
   "outputs": [
    {
     "name": "stdout",
     "output_type": "stream",
     "text": [
      "771628\n"
     ]
    }
   ],
   "source": [
    "print(26*22*19*71)"
   ]
  },
  {
   "cell_type": "code",
   "execution_count": null,
   "id": "3a3fbe5e",
   "metadata": {},
   "outputs": [],
   "source": []
  }
 ],
 "metadata": {
  "kernelspec": {
   "display_name": "Python 3 (ipykernel)",
   "language": "python",
   "name": "python3"
  },
  "language_info": {
   "codemirror_mode": {
    "name": "ipython",
    "version": 3
   },
   "file_extension": ".py",
   "mimetype": "text/x-python",
   "name": "python",
   "nbconvert_exporter": "python",
   "pygments_lexer": "ipython3",
   "version": "3.9.13"
  }
 },
 "nbformat": 4,
 "nbformat_minor": 5
}
